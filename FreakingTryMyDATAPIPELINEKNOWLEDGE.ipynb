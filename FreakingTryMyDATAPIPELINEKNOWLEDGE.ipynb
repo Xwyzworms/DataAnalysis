{
  "nbformat": 4,
  "nbformat_minor": 0,
  "metadata": {
    "colab": {
      "name": "FreakingTryMyDATAPIPELINEKNOWLEDGE.ipynb",
      "provenance": [],
      "collapsed_sections": []
    },
    "kernelspec": {
      "name": "python3",
      "display_name": "Python 3"
    }
  },
  "cells": [
    {
      "cell_type": "code",
      "metadata": {
        "id": "dQehHFU6Nwat",
        "colab_type": "code",
        "colab": {
          "base_uri": "https://localhost:8080/",
          "height": 33
        },
        "outputId": "236a32dd-96cc-4cc7-8d3b-46c06afe705d"
      },
      "source": [
        "from google.colab import drive ; drive.mount(\"/content/drive\")"
      ],
      "execution_count": 91,
      "outputs": [
        {
          "output_type": "stream",
          "text": [
            "Drive already mounted at /content/drive; to attempt to forcibly remount, call drive.mount(\"/content/drive\", force_remount=True).\n"
          ],
          "name": "stdout"
        }
      ]
    },
    {
      "cell_type": "code",
      "metadata": {
        "id": "RYBlqmipOYzy",
        "colab_type": "code",
        "colab": {}
      },
      "source": [
        "import pandas as pd\n",
        "import numpy as np\n",
        "import matplotlib.pyplot as plt\n",
        "import seaborn as sns\n",
        "import sklearn"
      ],
      "execution_count": 0,
      "outputs": []
    },
    {
      "cell_type": "code",
      "metadata": {
        "id": "gPmf9XBcOizo",
        "colab_type": "code",
        "colab": {
          "base_uri": "https://localhost:8080/",
          "height": 191
        },
        "outputId": "198d4ce6-41ae-476a-f1c2-57f53e556be6"
      },
      "source": [
        "df = pd.read_csv(\"/content/drive/My Drive/DataSet/StudentsPerformance.csv\")\n",
        "df.head()"
      ],
      "execution_count": 93,
      "outputs": [
        {
          "output_type": "execute_result",
          "data": {
            "text/html": [
              "<div>\n",
              "<style scoped>\n",
              "    .dataframe tbody tr th:only-of-type {\n",
              "        vertical-align: middle;\n",
              "    }\n",
              "\n",
              "    .dataframe tbody tr th {\n",
              "        vertical-align: top;\n",
              "    }\n",
              "\n",
              "    .dataframe thead th {\n",
              "        text-align: right;\n",
              "    }\n",
              "</style>\n",
              "<table border=\"1\" class=\"dataframe\">\n",
              "  <thead>\n",
              "    <tr style=\"text-align: right;\">\n",
              "      <th></th>\n",
              "      <th>gender</th>\n",
              "      <th>race/ethnicity</th>\n",
              "      <th>parental level of education</th>\n",
              "      <th>lunch</th>\n",
              "      <th>test preparation course</th>\n",
              "      <th>math score</th>\n",
              "      <th>reading score</th>\n",
              "      <th>writing score</th>\n",
              "    </tr>\n",
              "  </thead>\n",
              "  <tbody>\n",
              "    <tr>\n",
              "      <th>0</th>\n",
              "      <td>female</td>\n",
              "      <td>group B</td>\n",
              "      <td>bachelor's degree</td>\n",
              "      <td>standard</td>\n",
              "      <td>none</td>\n",
              "      <td>72</td>\n",
              "      <td>72</td>\n",
              "      <td>74</td>\n",
              "    </tr>\n",
              "    <tr>\n",
              "      <th>1</th>\n",
              "      <td>female</td>\n",
              "      <td>group C</td>\n",
              "      <td>some college</td>\n",
              "      <td>standard</td>\n",
              "      <td>completed</td>\n",
              "      <td>69</td>\n",
              "      <td>90</td>\n",
              "      <td>88</td>\n",
              "    </tr>\n",
              "    <tr>\n",
              "      <th>2</th>\n",
              "      <td>female</td>\n",
              "      <td>group B</td>\n",
              "      <td>master's degree</td>\n",
              "      <td>standard</td>\n",
              "      <td>none</td>\n",
              "      <td>90</td>\n",
              "      <td>95</td>\n",
              "      <td>93</td>\n",
              "    </tr>\n",
              "    <tr>\n",
              "      <th>3</th>\n",
              "      <td>male</td>\n",
              "      <td>group A</td>\n",
              "      <td>associate's degree</td>\n",
              "      <td>free/reduced</td>\n",
              "      <td>none</td>\n",
              "      <td>47</td>\n",
              "      <td>57</td>\n",
              "      <td>44</td>\n",
              "    </tr>\n",
              "    <tr>\n",
              "      <th>4</th>\n",
              "      <td>male</td>\n",
              "      <td>group C</td>\n",
              "      <td>some college</td>\n",
              "      <td>standard</td>\n",
              "      <td>none</td>\n",
              "      <td>76</td>\n",
              "      <td>78</td>\n",
              "      <td>75</td>\n",
              "    </tr>\n",
              "  </tbody>\n",
              "</table>\n",
              "</div>"
            ],
            "text/plain": [
              "   gender race/ethnicity  ... reading score writing score\n",
              "0  female        group B  ...            72            74\n",
              "1  female        group C  ...            90            88\n",
              "2  female        group B  ...            95            93\n",
              "3    male        group A  ...            57            44\n",
              "4    male        group C  ...            78            75\n",
              "\n",
              "[5 rows x 8 columns]"
            ]
          },
          "metadata": {
            "tags": []
          },
          "execution_count": 93
        }
      ]
    },
    {
      "cell_type": "code",
      "metadata": {
        "id": "zOPbsJPHPJ_y",
        "colab_type": "code",
        "colab": {
          "base_uri": "https://localhost:8080/",
          "height": 212
        },
        "outputId": "3cfb8987-4b05-4eaf-bfee-eff84c957064"
      },
      "source": [
        "print(\"Null values Total --> \" ,df.isna().sum().sum() )\n",
        "print(\"unique Values --> \" , df.nunique() )\n",
        "print(\"Total Rows \" , df.shape[0])\n",
        "print('Total Col ' , df.shape[1])\n"
      ],
      "execution_count": 94,
      "outputs": [
        {
          "output_type": "stream",
          "text": [
            "Null values Total -->  0\n",
            "unique Values -->  gender                          2\n",
            "race/ethnicity                  5\n",
            "parental level of education     6\n",
            "lunch                           2\n",
            "test preparation course         2\n",
            "math score                     81\n",
            "reading score                  72\n",
            "writing score                  77\n",
            "dtype: int64\n",
            "Total Rows  1000\n",
            "Total Col  8\n"
          ],
          "name": "stdout"
        }
      ]
    },
    {
      "cell_type": "markdown",
      "metadata": {
        "id": "5wuEaWcWPst4",
        "colab_type": "text"
      },
      "source": [
        "We get math score , reading score and writing score is ---> continous numerical ,i guess...\n",
        " Need to know What the rest var ,exclude Gender\n",
        " \n",
        "\n"
      ]
    },
    {
      "cell_type": "code",
      "metadata": {
        "id": "SEe9ESFiQCsI",
        "colab_type": "code",
        "colab": {
          "base_uri": "https://localhost:8080/",
          "height": 191
        },
        "outputId": "b90819ff-46ad-43e6-ea3f-f20107e16cdb"
      },
      "source": [
        "## Investigate the Parental Level of education as it's a ordinal categorical --> Orders MATTER\n",
        "dfcopy0 = df.copy()\n",
        "dfcopy0[\"parental level of education\"].replace({\"master's degree\" : 1,\n",
        "                                           \"bachelor's degree\" : 2,\n",
        "                                           \"associate's degree\" : 3,\n",
        "                                           \"high school\" : 4,\n",
        "                                           \"some high school\":5,\n",
        "                                           \"some college\" : 6}, inplace = True)\n",
        "dfcopy0[\"test preparation course\"].replace({\"none\":0,\n",
        "                                            \"completed\":1},inplace = True)\n",
        "dfcopy0[\"gender\"].replace({\"female\":1,\n",
        "                           \"male\":0} , inplace = True)\n",
        "dfcopy0[\"lunch\"].replace({\"standard\":0,\n",
        "                          \"free/reduced\":1} , inplace = True)\n",
        "dfcopy0[\"race/ethnicity\"].replace({\"group A\" :  0 ,\n",
        "                                    \"group B\" : 1 , \n",
        "                                    \"group C\" : 2 , \n",
        "                                    \"group D\" : 3 ,\n",
        "                                    \"group E\":  4 } , inplace = True)\n",
        "dfcopy0.head()\n"
      ],
      "execution_count": 95,
      "outputs": [
        {
          "output_type": "execute_result",
          "data": {
            "text/html": [
              "<div>\n",
              "<style scoped>\n",
              "    .dataframe tbody tr th:only-of-type {\n",
              "        vertical-align: middle;\n",
              "    }\n",
              "\n",
              "    .dataframe tbody tr th {\n",
              "        vertical-align: top;\n",
              "    }\n",
              "\n",
              "    .dataframe thead th {\n",
              "        text-align: right;\n",
              "    }\n",
              "</style>\n",
              "<table border=\"1\" class=\"dataframe\">\n",
              "  <thead>\n",
              "    <tr style=\"text-align: right;\">\n",
              "      <th></th>\n",
              "      <th>gender</th>\n",
              "      <th>race/ethnicity</th>\n",
              "      <th>parental level of education</th>\n",
              "      <th>lunch</th>\n",
              "      <th>test preparation course</th>\n",
              "      <th>math score</th>\n",
              "      <th>reading score</th>\n",
              "      <th>writing score</th>\n",
              "    </tr>\n",
              "  </thead>\n",
              "  <tbody>\n",
              "    <tr>\n",
              "      <th>0</th>\n",
              "      <td>1</td>\n",
              "      <td>1</td>\n",
              "      <td>2</td>\n",
              "      <td>0</td>\n",
              "      <td>0</td>\n",
              "      <td>72</td>\n",
              "      <td>72</td>\n",
              "      <td>74</td>\n",
              "    </tr>\n",
              "    <tr>\n",
              "      <th>1</th>\n",
              "      <td>1</td>\n",
              "      <td>2</td>\n",
              "      <td>6</td>\n",
              "      <td>0</td>\n",
              "      <td>1</td>\n",
              "      <td>69</td>\n",
              "      <td>90</td>\n",
              "      <td>88</td>\n",
              "    </tr>\n",
              "    <tr>\n",
              "      <th>2</th>\n",
              "      <td>1</td>\n",
              "      <td>1</td>\n",
              "      <td>1</td>\n",
              "      <td>0</td>\n",
              "      <td>0</td>\n",
              "      <td>90</td>\n",
              "      <td>95</td>\n",
              "      <td>93</td>\n",
              "    </tr>\n",
              "    <tr>\n",
              "      <th>3</th>\n",
              "      <td>0</td>\n",
              "      <td>0</td>\n",
              "      <td>3</td>\n",
              "      <td>1</td>\n",
              "      <td>0</td>\n",
              "      <td>47</td>\n",
              "      <td>57</td>\n",
              "      <td>44</td>\n",
              "    </tr>\n",
              "    <tr>\n",
              "      <th>4</th>\n",
              "      <td>0</td>\n",
              "      <td>2</td>\n",
              "      <td>6</td>\n",
              "      <td>0</td>\n",
              "      <td>0</td>\n",
              "      <td>76</td>\n",
              "      <td>78</td>\n",
              "      <td>75</td>\n",
              "    </tr>\n",
              "  </tbody>\n",
              "</table>\n",
              "</div>"
            ],
            "text/plain": [
              "   gender  race/ethnicity  ...  reading score  writing score\n",
              "0       1               1  ...             72             74\n",
              "1       1               2  ...             90             88\n",
              "2       1               1  ...             95             93\n",
              "3       0               0  ...             57             44\n",
              "4       0               2  ...             78             75\n",
              "\n",
              "[5 rows x 8 columns]"
            ]
          },
          "metadata": {
            "tags": []
          },
          "execution_count": 95
        }
      ]
    },
    {
      "cell_type": "code",
      "metadata": {
        "id": "CuWXqoGwZJ9A",
        "colab_type": "code",
        "colab": {
          "base_uri": "https://localhost:8080/",
          "height": 33
        },
        "outputId": "5c187ca8-f094-459c-c37f-88e82e9a8964"
      },
      "source": [
        "dfcopy0[\"gender\"].corr(dfcopy0[\"parental level of education\"])"
      ],
      "execution_count": 103,
      "outputs": [
        {
          "output_type": "execute_result",
          "data": {
            "text/plain": [
              "-0.027569121715390804"
            ]
          },
          "metadata": {
            "tags": []
          },
          "execution_count": 103
        }
      ]
    },
    {
      "cell_type": "code",
      "metadata": {
        "id": "ya-X6zmtYGRk",
        "colab_type": "code",
        "colab": {
          "base_uri": "https://localhost:8080/",
          "height": 528
        },
        "outputId": "f7e26ee5-3682-4aee-f1ab-abb08ddb5824"
      },
      "source": [
        "## Do the explanatory data Analysis ,LOL\n",
        "## Reason i m not using loops , just tried to make my self remember the syntax\n",
        "f , ax = plt.subplots(ncols = 4 ,figsize = (17,8))\n",
        "ax[0].set(title = \"Level of education Gender {} \" .format( round(dfcopy0[\"gender\"].corr(dfcopy0[\"parental level of education\"])),5))\n",
        "ax[1].set(title = \"Level of education Group  {} \" .format( round(dfcopy0[\"race/ethnicity\"].corr(dfcopy0[\"parental level of education\"])),5))\n",
        "ax[2].set(title = \"Level of education Lunch  {} \" .format( round(dfcopy0[\"lunch\"].corr(dfcopy0[\"parental level of education\"])),5))\n",
        "ax[3].set(title = \"Level of education Test   {} \" .format( round(dfcopy0[\"test preparation course\"].corr(dfcopy0[\"parental level of education\"]))))\n",
        "\n",
        "sns.barplot(x = \"gender\" , y = \"parental level of education\" , data = dfcopy0 ,ax = ax[0])\n",
        "sns.barplot(x = \"race/ethnicity\" , y = \"parental level of education\" , data = dfcopy0 , ax = ax[1])\n",
        "sns.barplot(x = \"lunch\" , y = \"parental level of education\" , data = dfcopy0 , ax = ax[2])\n",
        "sns.barplot(x = \"test preparation course\" , y = \"parental level of education\" , data = dfcopy0 , ax = ax[3])\n",
        " "
      ],
      "execution_count": 108,
      "outputs": [
        {
          "output_type": "execute_result",
          "data": {
            "text/plain": [
              "<matplotlib.axes._subplots.AxesSubplot at 0x7f01510a7d68>"
            ]
          },
          "metadata": {
            "tags": []
          },
          "execution_count": 108
        },
        {
          "output_type": "display_data",
          "data": {
            "image/png": "[encoded data removed]",
            "text/plain": [
              "<Figure size 1224x576 with 4 Axes>"
            ]
          },
          "metadata": {
            "tags": [],
            "needs_background": "light"
          }
        }
      ]
    },
    {
      "cell_type": "markdown",
      "metadata": {
        "id": "l5U4lG_ebte9",
        "colab_type": "text"
      },
      "source": [
        "Seems every features have balanced distribution , but none of these var have correlation with the level of education,for this dataset"
      ]
    },
    {
      "cell_type": "code",
      "metadata": {
        "id": "w_6tatsSS0HJ",
        "colab_type": "code",
        "colab": {
          "base_uri": "https://localhost:8080/",
          "height": 207
        },
        "outputId": "77b44bd5-b80e-4738-a899-e00518e84448"
      },
      "source": [
        "## We're going to Transform it , ORDNINAL FOR THE LEVEL and rest it's just nominal\n",
        "copydf = df.copy()\n",
        "Fordummies = [\"race/ethnicity\",\"gender\",\"lunch\"]\n",
        "copydf[\"parental level of education\"].replace({\"master's degree\" : 1,\n",
        "                                           \"bachelor's degree\" : 2,\n",
        "                                           \"associate's degree\" : 3,\n",
        "                                           \"high school\" : 4,\n",
        "                                           \"some high school\":4,\n",
        "                                           \"some college\" : 5}, inplace = True)\n",
        "copydf[\"test preparation course\"].replace({\"none\":0,\n",
        "                                       \"completed\":1},inplace=True)\n",
        "dummies = pd.get_dummies(data = copydf[Fordummies] , drop_first= True)\n",
        "Newdf = pd.concat([copydf,dummies] ,axis= 1)\n",
        "Newdf.drop(Fordummies , axis = 1,inplace=True)\n",
        "Newdf.head()"
      ],
      "execution_count": 97,
      "outputs": [
        {
          "output_type": "execute_result",
          "data": {
            "text/html": [
              "<div>\n",
              "<style scoped>\n",
              "    .dataframe tbody tr th:only-of-type {\n",
              "        vertical-align: middle;\n",
              "    }\n",
              "\n",
              "    .dataframe tbody tr th {\n",
              "        vertical-align: top;\n",
              "    }\n",
              "\n",
              "    .dataframe thead th {\n",
              "        text-align: right;\n",
              "    }\n",
              "</style>\n",
              "<table border=\"1\" class=\"dataframe\">\n",
              "  <thead>\n",
              "    <tr style=\"text-align: right;\">\n",
              "      <th></th>\n",
              "      <th>parental level of education</th>\n",
              "      <th>test preparation course</th>\n",
              "      <th>math score</th>\n",
              "      <th>reading score</th>\n",
              "      <th>writing score</th>\n",
              "      <th>race/ethnicity_group B</th>\n",
              "      <th>race/ethnicity_group C</th>\n",
              "      <th>race/ethnicity_group D</th>\n",
              "      <th>race/ethnicity_group E</th>\n",
              "      <th>gender_male</th>\n",
              "      <th>lunch_standard</th>\n",
              "    </tr>\n",
              "  </thead>\n",
              "  <tbody>\n",
              "    <tr>\n",
              "      <th>0</th>\n",
              "      <td>2</td>\n",
              "      <td>0</td>\n",
              "      <td>72</td>\n",
              "      <td>72</td>\n",
              "      <td>74</td>\n",
              "      <td>1</td>\n",
              "      <td>0</td>\n",
              "      <td>0</td>\n",
              "      <td>0</td>\n",
              "      <td>0</td>\n",
              "      <td>1</td>\n",
              "    </tr>\n",
              "    <tr>\n",
              "      <th>1</th>\n",
              "      <td>5</td>\n",
              "      <td>1</td>\n",
              "      <td>69</td>\n",
              "      <td>90</td>\n",
              "      <td>88</td>\n",
              "      <td>0</td>\n",
              "      <td>1</td>\n",
              "      <td>0</td>\n",
              "      <td>0</td>\n",
              "      <td>0</td>\n",
              "      <td>1</td>\n",
              "    </tr>\n",
              "    <tr>\n",
              "      <th>2</th>\n",
              "      <td>1</td>\n",
              "      <td>0</td>\n",
              "      <td>90</td>\n",
              "      <td>95</td>\n",
              "      <td>93</td>\n",
              "      <td>1</td>\n",
              "      <td>0</td>\n",
              "      <td>0</td>\n",
              "      <td>0</td>\n",
              "      <td>0</td>\n",
              "      <td>1</td>\n",
              "    </tr>\n",
              "    <tr>\n",
              "      <th>3</th>\n",
              "      <td>3</td>\n",
              "      <td>0</td>\n",
              "      <td>47</td>\n",
              "      <td>57</td>\n",
              "      <td>44</td>\n",
              "      <td>0</td>\n",
              "      <td>0</td>\n",
              "      <td>0</td>\n",
              "      <td>0</td>\n",
              "      <td>1</td>\n",
              "      <td>0</td>\n",
              "    </tr>\n",
              "    <tr>\n",
              "      <th>4</th>\n",
              "      <td>5</td>\n",
              "      <td>0</td>\n",
              "      <td>76</td>\n",
              "      <td>78</td>\n",
              "      <td>75</td>\n",
              "      <td>0</td>\n",
              "      <td>1</td>\n",
              "      <td>0</td>\n",
              "      <td>0</td>\n",
              "      <td>1</td>\n",
              "      <td>1</td>\n",
              "    </tr>\n",
              "  </tbody>\n",
              "</table>\n",
              "</div>"
            ],
            "text/plain": [
              "   parental level of education  ...  lunch_standard\n",
              "0                            2  ...               1\n",
              "1                            5  ...               1\n",
              "2                            1  ...               1\n",
              "3                            3  ...               0\n",
              "4                            5  ...               1\n",
              "\n",
              "[5 rows x 11 columns]"
            ]
          },
          "metadata": {
            "tags": []
          },
          "execution_count": 97
        }
      ]
    },
    {
      "cell_type": "code",
      "metadata": {
        "id": "AXaPXLNuTF-K",
        "colab_type": "code",
        "colab": {}
      },
      "source": [
        ""
      ],
      "execution_count": 0,
      "outputs": []
    },
    {
      "cell_type": "code",
      "metadata": {
        "id": "RgdOmzvBQ9DY",
        "colab_type": "code",
        "colab": {}
      },
      "source": [
        ""
      ],
      "execution_count": 0,
      "outputs": []
    }
  ]
}